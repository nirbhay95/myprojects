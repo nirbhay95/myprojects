{
 "cells": [
  {
   "cell_type": "code",
   "execution_count": null,
   "id": "0345a22e-a749-4f9a-890c-461302cdcf2f",
   "metadata": {},
   "outputs": [],
   "source": [
    "# Hello Folks Nirbhay Here a datascientist working for gurgaon based logistics(E-Commerce) org named NimbusPost, \n",
    "# Today i will be sharing very basic linear regression proj that will help you understand how we deal with real world regression problems using ML algorithms.\n",
    "\n",
    "# So i am picking here a very basic Linear Regression Dataset where we will find that in respect to Year of exp of a person how salary changes in real world\n",
    "# Remember that before picking any algorithm in data sceince project, we have to always figureout what type of problem statement we are going to deal with & which algorithm gonna suit it. \n",
    "# Linear Regression applies where we have to predict continuos value lets say stock price, house price, salary of person, age of a person\n",
    "\n",
    "\n",
    "import pandas as pd\n",
    "import numpy as np\n",
    "import matplotlib.pyplot as plt\n",
    "%matplotlib inline\n",
    "import seaborn as sns\n",
    "import warnings\n",
    "warnings.filterwarnings('ignore')"
   ]
  },
  {
   "cell_type": "code",
   "execution_count": null,
   "id": "6f4059a8-8fd9-4306-ae29-1b9a8cf8483b",
   "metadata": {},
   "outputs": [],
   "source": [
    "# Now let me quickly Load the basic dataset which has 2 attributes YearofExp & Salary in it\n",
    "\n",
    "\n",
    "df = pd.read_csv(\"Salary_Data.csv\")"
   ]
  },
  {
   "cell_type": "code",
   "execution_count": null,
   "id": "f890ea9e-e8de-49df-8f23-9865b7fc7077",
   "metadata": {},
   "outputs": [],
   "source": [
    "df.head(10)"
   ]
  },
  {
   "cell_type": "code",
   "execution_count": 10,
   "id": "8a05ed73-0e0c-46de-91ee-e62037f5a079",
   "metadata": {},
   "outputs": [
    {
     "data": {
      "text/plain": [
       "(30, 2)"
      ]
     },
     "execution_count": 10,
     "metadata": {},
     "output_type": "execute_result"
    }
   ],
   "source": [
    "# Now lets check the no of rows and no of columns our dataset contains\n",
    "# Remember that left side it always shows rows count & and right side cols count\n",
    "\n",
    "df.shape"
   ]
  },
  {
   "cell_type": "code",
   "execution_count": 11,
   "id": "342b4a45-029d-44e1-af0e-929f71ab70a7",
   "metadata": {},
   "outputs": [
    {
     "name": "stdout",
     "output_type": "stream",
     "text": [
      "<class 'pandas.core.frame.DataFrame'>\n",
      "RangeIndex: 30 entries, 0 to 29\n",
      "Data columns (total 2 columns):\n",
      " #   Column           Non-Null Count  Dtype  \n",
      "---  ------           --------------  -----  \n",
      " 0   YearsExperience  30 non-null     float64\n",
      " 1   Salary           30 non-null     int64  \n",
      "dtypes: float64(1), int64(1)\n",
      "memory usage: 608.0 bytes\n"
     ]
    }
   ],
   "source": [
    "# Now will check the Dataset Information using\n",
    "\n",
    "df.info()"
   ]
  },
  {
   "cell_type": "code",
   "execution_count": 13,
   "id": "6041b2fb-0278-4026-a0df-efab393a0d7b",
   "metadata": {},
   "outputs": [],
   "source": [
    "# We can clearly see now, that our dataset do not contains any null values/missing values in any columns as well as, Yearexp column has floatting decimal places values in it\n",
    "# Whereas Salary column has interger values in it "
   ]
  },
  {
   "cell_type": "code",
   "execution_count": 14,
   "id": "b25370d6-bdad-4d44-ba64-b06a709f5c1e",
   "metadata": {},
   "outputs": [
    {
     "data": {
      "text/html": [
       "<div>\n",
       "<style scoped>\n",
       "    .dataframe tbody tr th:only-of-type {\n",
       "        vertical-align: middle;\n",
       "    }\n",
       "\n",
       "    .dataframe tbody tr th {\n",
       "        vertical-align: top;\n",
       "    }\n",
       "\n",
       "    .dataframe thead th {\n",
       "        text-align: right;\n",
       "    }\n",
       "</style>\n",
       "<table border=\"1\" class=\"dataframe\">\n",
       "  <thead>\n",
       "    <tr style=\"text-align: right;\">\n",
       "      <th></th>\n",
       "      <th>YearsExperience</th>\n",
       "      <th>Salary</th>\n",
       "    </tr>\n",
       "  </thead>\n",
       "  <tbody>\n",
       "    <tr>\n",
       "      <th>count</th>\n",
       "      <td>30.000000</td>\n",
       "      <td>30.000000</td>\n",
       "    </tr>\n",
       "    <tr>\n",
       "      <th>mean</th>\n",
       "      <td>5.313333</td>\n",
       "      <td>76003.000000</td>\n",
       "    </tr>\n",
       "    <tr>\n",
       "      <th>std</th>\n",
       "      <td>2.837888</td>\n",
       "      <td>27414.429785</td>\n",
       "    </tr>\n",
       "    <tr>\n",
       "      <th>min</th>\n",
       "      <td>1.100000</td>\n",
       "      <td>37731.000000</td>\n",
       "    </tr>\n",
       "    <tr>\n",
       "      <th>25%</th>\n",
       "      <td>3.200000</td>\n",
       "      <td>56720.750000</td>\n",
       "    </tr>\n",
       "    <tr>\n",
       "      <th>50%</th>\n",
       "      <td>4.700000</td>\n",
       "      <td>65237.000000</td>\n",
       "    </tr>\n",
       "    <tr>\n",
       "      <th>75%</th>\n",
       "      <td>7.700000</td>\n",
       "      <td>100544.750000</td>\n",
       "    </tr>\n",
       "    <tr>\n",
       "      <th>max</th>\n",
       "      <td>10.500000</td>\n",
       "      <td>122391.000000</td>\n",
       "    </tr>\n",
       "  </tbody>\n",
       "</table>\n",
       "</div>"
      ],
      "text/plain": [
       "       YearsExperience         Salary\n",
       "count        30.000000      30.000000\n",
       "mean          5.313333   76003.000000\n",
       "std           2.837888   27414.429785\n",
       "min           1.100000   37731.000000\n",
       "25%           3.200000   56720.750000\n",
       "50%           4.700000   65237.000000\n",
       "75%           7.700000  100544.750000\n",
       "max          10.500000  122391.000000"
      ]
     },
     "execution_count": 14,
     "metadata": {},
     "output_type": "execute_result"
    }
   ],
   "source": [
    "# Now i will be using describe function that will help me understand the statistical summary of my dataset\n",
    "\n",
    "df.describe(include='all')"
   ]
  },
  {
   "cell_type": "code",
   "execution_count": 15,
   "id": "b6a2d45b-43ed-4c3a-92d1-2d960e5e93b2",
   "metadata": {},
   "outputs": [],
   "source": [
    "# As we can see from the summary its giving us very meaningful info like-:\n",
    "\n",
    "# Our data contains 30 different observations/(Records)/(Rows Count)\n",
    "# avg year of experience of our 30 observations(records)/Employee is 5, means most of employees are having around 5 yrs of exp \n",
    "# Avg salary of people having 5 yrs of exp is 76003 INR per month\n",
    "# STDdev is telling us spread or despersion of yrs of exp & salary around the avg yrs of exp and avg salary \n",
    "# Or In other words STDdev values telling us that (around 68% of the salary of this dataset falls around 76003+-27414)/ incase of stddev of yrs of exp as well\n",
    "# Next the summary telling us that minimum exp of a person in this 30 observations is 1.1 yrs and minimum salary of a person is 37731 INR / Month Salary\n",
    "# Now 25% Is nothing but a measure of quartiles, its saying that 25% of people from the dataset are peoples who have 3.2 yrs or less of exp and 56720 INR or less / Monthly Income\n",
    "# 50% of people in this dataset having less than or equal to 4.7 yrs of exp and less than or equal to 65237 INR / Monthly Income\n",
    "# 75% Same as 25% & 50% Explanation\n",
    "# Last but not least max telling us that maximum expience of our dataset is 10.5 you can say we have a candidate record who has 10.5 yrs of exp and is the highest over all and \n",
    "# he's salary is also the highest amongst all other candidtae /(records/observation) we have in our dataset"
   ]
  },
  {
   "cell_type": "code",
   "execution_count": 16,
   "id": "36b108b2-31cf-4faa-9552-154fcbf24127",
   "metadata": {},
   "outputs": [
    {
     "data": {
      "text/plain": [
       "YearsExperience    0\n",
       "Salary             0\n",
       "dtype: int64"
      ]
     },
     "execution_count": 16,
     "metadata": {},
     "output_type": "execute_result"
    }
   ],
   "source": [
    "# Now we check if we have any missing values \n",
    "\n",
    "df.isnull().sum()\n",
    "\n",
    "# so what we doing here is we simply saying first give us all values that is null in our dataset then sum it all to give us final count of null values"
   ]
  },
  {
   "cell_type": "code",
   "execution_count": 17,
   "id": "608b0b53-be6c-4980-b639-41022b076606",
   "metadata": {},
   "outputs": [],
   "source": [
    "# No Null values found in our data that good"
   ]
  },
  {
   "cell_type": "code",
   "execution_count": 20,
   "id": "250b4182-1b30-470c-978a-b66cff6a0f04",
   "metadata": {},
   "outputs": [
    {
     "data": {
      "text/plain": [
       "YearsExperience    0.37956\n",
       "Salary             0.35412\n",
       "dtype: float64"
      ]
     },
     "execution_count": 20,
     "metadata": {},
     "output_type": "execute_result"
    }
   ],
   "source": [
    "# Now the next very imp step in explarotory data analysis is finding if our data contains any outliers or not\n",
    "# what is outliers suppose it as that is very disimmilar value in your dataset from majority of datapoints \n",
    "# If i take yrs of exp example then lets say if we find candidate with  50 yrs of exp that can be considered as outliers \n",
    "\n",
    "df.skew()"
   ]
  },
  {
   "cell_type": "code",
   "execution_count": null,
   "id": "5e860dc0-2455-4cc3-9bf8-6c4042677b51",
   "metadata": {},
   "outputs": [],
   "source": [
    "# You folks must be thinking what this skew function does in finding outliers \n",
    "# Skew function measures the asymmetry of the distribution of values in a variable. \n",
    "\n",
    "# If the skewness is close to 0, it indicates that the distribution is approximately symmetric.\n",
    "# If the skewness is positive, it indicates that the distribution is right-skewed (longer tail on the right side).\n",
    "# If the skewness is negative, it indicates that the distribution is left-skewed (longer tail on the left side).\n",
    "\n",
    "# Now lets plot the skewness of dataset to properly see and understand \n",
    "\n",
    "skewness = df.skew()\n",
    "\n",
    "# Plot the skewness values\n",
    "plt.figure(figsize=(10, 6))\n",
    "skewness.plot(kind='bar', color='skyblue')\n",
    "plt.title('Skewness of Numerical Variables')\n",
    "plt.xlabel('Variables')\n",
    "plt.ylabel('Skewness')\n",
    "plt.xticks(rotation=45)\n",
    "plt.grid(axis='y', linestyle='--', alpha=0.7)\n",
    "plt.show()"
   ]
  },
  {
   "cell_type": "code",
   "execution_count": 31,
   "id": "088eb83a-4b60-4f9c-be4a-57a6f687d67a",
   "metadata": {},
   "outputs": [
    {
     "data": {
      "image/png": "[encoded data removed]",
      "text/plain": [
       "<Figure size 1008x432 with 2 Axes>"
      ]
     },
     "metadata": {
      "needs_background": "light"
     },
     "output_type": "display_data"
    }
   ],
   "source": [
    "from scipy.stats import norm, skew\n",
    "\n",
    "# Lets Calculate & Plot skewness of the 'YearsExperience' and 'Salary' columns which shows if our data is normally distributed or right skewed or left skewed\n",
    "\n",
    "# Remember that if the dataset do not follow normal data distribution it will impact the model performance & accuracy\n",
    "\n",
    "years_exp_skewness = skew(df['YearsExperience'])\n",
    "salary_skewness = skew(df['Salary'])\n",
    "\n",
    "# Create subplots\n",
    "fig, axs = plt.subplots(1, 2, figsize=(14, 6))\n",
    "\n",
    "# Ploting histogram for 'YearsExperience'\n",
    "axs[0].hist(df['YearsExperience'], bins=10, density=True, alpha=0.6, color='b')\n",
    "axs[0].set_title(f'Years of Experience (Skewness: {years_exp_skewness:.2f})')\n",
    "axs[0].set_xlabel('Years of Experience')\n",
    "axs[0].set_ylabel('Density')\n",
    "axs[0].grid(True)\n",
    "\n",
    "# Plot bell curve (normal distribution curve) for 'YearsExperience'\n",
    "xmin, xmax = axs[0].get_xlim()\n",
    "x = np.linspace(xmin, xmax, 100)\n",
    "p = norm.pdf(x, df['YearsExperience'].mean(), df['YearsExperience'].std())\n",
    "axs[0].plot(x, p, 'k', linewidth=2)\n",
    "\n",
    "# Plot histogram for 'Salary'\n",
    "axs[1].hist(df['Salary'], bins=10, density=True, alpha=0.6, color='r')\n",
    "axs[1].set_title(f'Salary (Skewness: {salary_skewness:.2f})')\n",
    "axs[1].set_xlabel('Salary')\n",
    "axs[1].set_ylabel('Density')\n",
    "axs[1].grid(True)\n",
    "\n",
    "# Plot bell curve (normal distribution curve) for 'Salary'\n",
    "xmin, xmax = axs[1].get_xlim()\n",
    "x = np.linspace(xmin, xmax, 100)\n",
    "p = norm.pdf(x, df['Salary'].mean(), df['Salary'].std())\n",
    "axs[1].plot(x, p, 'k', linewidth=2)\n",
    "\n",
    "plt.tight_layout()\n",
    "plt.show()"
   ]
  },
  {
   "cell_type": "code",
   "execution_count": 32,
   "id": "15195fc1-1f68-4c33-813b-7b35a15d31c4",
   "metadata": {},
   "outputs": [
    {
     "data": {
      "text/html": [
       "<div>\n",
       "<style scoped>\n",
       "    .dataframe tbody tr th:only-of-type {\n",
       "        vertical-align: middle;\n",
       "    }\n",
       "\n",
       "    .dataframe tbody tr th {\n",
       "        vertical-align: top;\n",
       "    }\n",
       "\n",
       "    .dataframe thead th {\n",
       "        text-align: right;\n",
       "    }\n",
       "</style>\n",
       "<table border=\"1\" class=\"dataframe\">\n",
       "  <thead>\n",
       "    <tr style=\"text-align: right;\">\n",
       "      <th></th>\n",
       "      <th>YearsExperience</th>\n",
       "      <th>Salary</th>\n",
       "    </tr>\n",
       "  </thead>\n",
       "  <tbody>\n",
       "    <tr>\n",
       "      <th>YearsExperience</th>\n",
       "      <td>8.053609</td>\n",
       "      <td>7.610630e+04</td>\n",
       "    </tr>\n",
       "    <tr>\n",
       "      <th>Salary</th>\n",
       "      <td>76106.303448</td>\n",
       "      <td>7.515510e+08</td>\n",
       "    </tr>\n",
       "  </tbody>\n",
       "</table>\n",
       "</div>"
      ],
      "text/plain": [
       "                 YearsExperience        Salary\n",
       "YearsExperience         8.053609  7.610630e+04\n",
       "Salary              76106.303448  7.515510e+08"
      ]
     },
     "execution_count": 32,
     "metadata": {},
     "output_type": "execute_result"
    }
   ],
   "source": [
    "# Now we will check the covariance in our dataset\n",
    "\n",
    "# What is Covariance ?\n",
    "\n",
    "# Covariance is a measure of the degree to which two variables change together. It indicates the direction of the linear relationship between two variables. Specifically:\n",
    "\n",
    "# Positive covariance: Indicates that as one variable increases, the other variable also tends to increase. Similarly, as one variable decreases, the other variable tends to decrease. \n",
    "# This suggests a positive linear relationship between the variables.\n",
    "\n",
    "# Negative covariance: Indicates that as one variable increases, the other variable tends to decrease, and vice versa. \n",
    "# This suggests a negative linear relationship between the variables.\n",
    "\n",
    "df[['YearsExperience','Salary']].cov()"
   ]
  },
  {
   "cell_type": "code",
   "execution_count": 33,
   "id": "e6198bc8-de4e-4333-a2e9-9f946f60ba15",
   "metadata": {},
   "outputs": [
    {
     "data": {
      "text/html": [
       "<div>\n",
       "<style scoped>\n",
       "    .dataframe tbody tr th:only-of-type {\n",
       "        vertical-align: middle;\n",
       "    }\n",
       "\n",
       "    .dataframe tbody tr th {\n",
       "        vertical-align: top;\n",
       "    }\n",
       "\n",
       "    .dataframe thead th {\n",
       "        text-align: right;\n",
       "    }\n",
       "</style>\n",
       "<table border=\"1\" class=\"dataframe\">\n",
       "  <thead>\n",
       "    <tr style=\"text-align: right;\">\n",
       "      <th></th>\n",
       "      <th>YearsExperience</th>\n",
       "      <th>Salary</th>\n",
       "    </tr>\n",
       "  </thead>\n",
       "  <tbody>\n",
       "    <tr>\n",
       "      <th>YearsExperience</th>\n",
       "      <td>1.000000</td>\n",
       "      <td>0.978242</td>\n",
       "    </tr>\n",
       "    <tr>\n",
       "      <th>Salary</th>\n",
       "      <td>0.978242</td>\n",
       "      <td>1.000000</td>\n",
       "    </tr>\n",
       "  </tbody>\n",
       "</table>\n",
       "</div>"
      ],
      "text/plain": [
       "                 YearsExperience    Salary\n",
       "YearsExperience         1.000000  0.978242\n",
       "Salary                  0.978242  1.000000"
      ]
     },
     "execution_count": 33,
     "metadata": {},
     "output_type": "execute_result"
    }
   ],
   "source": [
    "# Now we will check the correlation in our dataset\n",
    "\n",
    "# what is correlation ?\n",
    "\n",
    "# We find correlation to understand the strength and direction of the linear relationship between two variables. Correlation is a standardized measure that ranges from -1 to 1:\n",
    "\n",
    "# A correlation of 1 indicates a perfect positive linear relationship: as one variable increases, the other variable also increases linearly.\n",
    "# A correlation of -1 indicates a perfect negative linear relationship: as one variable increases, the other variable decreases linearly.\n",
    "# A correlation of 0 indicates no linear relationship between the variables.\n",
    "\n",
    "\n",
    "df.corr()"
   ]
  },
  {
   "cell_type": "code",
   "execution_count": 34,
   "id": "d8327f2e-a4e5-4c12-9d05-6aaa1f309078",
   "metadata": {},
   "outputs": [],
   "source": [
    "# We can clearly see that our data has a positive relayionship between them which states that \n",
    "# if the year of exp increase the salary of a person also increase linearly "
   ]
  },
  {
   "cell_type": "code",
   "execution_count": 35,
   "id": "1e64e88c-b5f5-4f7e-a38e-5ddbee480675",
   "metadata": {},
   "outputs": [
    {
     "data": {
      "image/png": "[encoded data removed]",
      "text/plain": [
       "<Figure size 432x288 with 2 Axes>"
      ]
     },
     "metadata": {
      "needs_background": "light"
     },
     "output_type": "display_data"
    }
   ],
   "source": [
    "# Now lets plot a heatmap to visualize the relationship between input and output variable or independent or dependent variable or feature & target variable\n",
    "\n",
    "sns.heatmap(df.corr(), annot=True)\n",
    "plt.show()\n",
    "\n",
    "# We use sns.heatmap(df.corr(), annot=True) along with plt.show() to create a heatmap visualization of the correlation matrix for the variables in the dataset df using the Seaborn library (sns). \n",
    "# This visualization technique is particularly useful for quickly identifying the strength and direction of the linear relationships between variables."
   ]
  },
  {
   "cell_type": "code",
   "execution_count": 36,
   "id": "25924c39-c05c-4d08-9f79-a3a46fa022c9",
   "metadata": {},
   "outputs": [
    {
     "data": {
      "image/png": "[encoded data removed]",
      "text/plain": [
       "<Figure size 360x360 with 6 Axes>"
      ]
     },
     "metadata": {
      "needs_background": "light"
     },
     "output_type": "display_data"
    }
   ],
   "source": [
    "sns.pairplot(df)\n",
    "plt.show()\n",
    "\n",
    "\n",
    "# We use sns.pairplot(df) along with plt.show() to create a grid of scatterplots for pairwise relationships in the dataset df using the Seaborn library (sns).\n",
    "# This visualization technique is particularly useful for exploring the relationships between multiple variables in the dataset."
   ]
  },
  {
   "cell_type": "code",
   "execution_count": 45,
   "id": "eaa4597f-33a2-471f-add4-bcbb75bfad70",
   "metadata": {},
   "outputs": [
    {
     "data": {
      "image/png": "[encoded data removed]",
      "text/plain": [
       "<Figure size 432x288 with 1 Axes>"
      ]
     },
     "metadata": {
      "needs_background": "light"
     },
     "output_type": "display_data"
    }
   ],
   "source": [
    "plt.plot(df, linestyle = '-', linewidth='9.7')\n",
    "\n",
    "plt.show()"
   ]
  },
  {
   "cell_type": "code",
   "execution_count": 52,
   "id": "dbd610ec-094c-4b87-886e-252921bc0a3d",
   "metadata": {},
   "outputs": [
    {
     "data": {
      "image/png": "[encoded data removed]",
      "text/plain": [
       "<Figure size 432x288 with 1 Axes>"
      ]
     },
     "metadata": {
      "needs_background": "light"
     },
     "output_type": "display_data"
    }
   ],
   "source": [
    "df.plot.line(linestyle = ':' , linewidth='4')\n",
    "\n",
    "plt.title('YearExperience-VS-Salary')\n",
    "plt.show()"
   ]
  },
  {
   "cell_type": "code",
   "execution_count": 68,
   "id": "b78d97b2-f762-433f-adc4-518b4940fe15",
   "metadata": {},
   "outputs": [
    {
     "data": {
      "image/png": "[encoded data removed]",
      "text/plain": [
       "<Figure size 432x288 with 1 Axes>"
      ]
     },
     "metadata": {
      "needs_background": "light"
     },
     "output_type": "display_data"
    }
   ],
   "source": [
    "df = pd.DataFrame(data=df)\n",
    "\n",
    "df.plot.line(x='YearsExperience',linestyle = ':', linewidth='3')\n",
    "\n",
    "plt.title('Salary Increase with respect to year of experience Increasing')\n",
    "plt.show()"
   ]
  },
  {
   "cell_type": "code",
   "execution_count": 69,
   "id": "c20e6e71-3377-4e80-b187-2edc1a5a07c2",
   "metadata": {},
   "outputs": [],
   "source": [
    "# The Above Chart Cleaerly show thes the linear relationship between dependent and independent variable."
   ]
  },
  {
   "cell_type": "code",
   "execution_count": 70,
   "id": "c3e9bab7-7eac-4a63-85f3-f98fd9919260",
   "metadata": {},
   "outputs": [],
   "source": [
    "# Now lets select the features(dependent & independent variables) & start Building then Training our model to predict the salary when the yrs of exp given to model\n",
    "\n",
    "X = df.drop('Salary', axis=1)\n",
    "\n",
    "# X is always be your independent variable or input features for which you want to predict the target variable or values"
   ]
  },
  {
   "cell_type": "code",
   "execution_count": 72,
   "id": "e64ce9eb-31a6-4ef6-ad7e-b052e09ed76f",
   "metadata": {},
   "outputs": [],
   "source": [
    "y = df.Salary\n",
    "\n",
    "# y gonna be always your Dependent/Target variable or output feature that you want to predict with respect to some value of X"
   ]
  },
  {
   "cell_type": "code",
   "execution_count": 81,
   "id": "35d43066-53fe-4561-a11c-60fe04f9ea8d",
   "metadata": {},
   "outputs": [
    {
     "data": {
      "text/plain": [
       "(   YearsExperience\n",
       " 0              1.1\n",
       " 1              1.3\n",
       " 2              1.5\n",
       " 3              2.0\n",
       " 4              2.2,\n",
       " [39343, 46205, 37731, 43525, 39891])"
      ]
     },
     "execution_count": 81,
     "metadata": {},
     "output_type": "execute_result"
    }
   ],
   "source": [
    "X.head(), y.head().tolist()"
   ]
  },
  {
   "cell_type": "code",
   "execution_count": 82,
   "id": "d69b70f6-90ac-4709-bbc7-895572b2eacb",
   "metadata": {},
   "outputs": [],
   "source": [
    "# Now in order to train our model first we need to teach the machine that based on past data, pattern, or relationship between Years of Experience & Salary\n",
    "# We want to Predict future values"
   ]
  },
  {
   "cell_type": "code",
   "execution_count": 85,
   "id": "e807990d-cde4-41b2-a614-2c50d220e06f",
   "metadata": {},
   "outputs": [],
   "source": [
    "from sklearn.model_selection import train_test_split"
   ]
  },
  {
   "cell_type": "code",
   "execution_count": 86,
   "id": "4753d480-aa22-4088-95b9-8d1a314edf05",
   "metadata": {},
   "outputs": [],
   "source": [
    "X_train, X_test, y_train, y_test = train_test_split(X,y, test_size=0.3, random_state=0)\n",
    "\n",
    "# Now you may be thinking what i just done let me explain in above code we are splitting the original dataset we have to train our model\n",
    "# What we are doing here is we are saying we will keep the 30% of our original data to test the model accuracy later on and rest 70% data we use now onwards for training our model"
   ]
  },
  {
   "cell_type": "code",
   "execution_count": 89,
   "id": "2bd7016f-70a0-4665-8453-dff699eb9e8a",
   "metadata": {},
   "outputs": [
    {
     "name": "stdout",
     "output_type": "stream",
     "text": [
      "(21, 1)\n"
     ]
    },
    {
     "data": {
      "text/plain": [
       "(None, (30,))"
      ]
     },
     "execution_count": 89,
     "metadata": {},
     "output_type": "execute_result"
    }
   ],
   "source": [
    "print(X_train.shape), df['YearsExperience'].shape\n",
    "\n",
    "# As you can see now i have printed both total records we had earlier in our YearExperience Column \n",
    "# which was 30 record along with training dataset was 70% so 70% of 30 records will be 21 records right means now we use 21 records to teach our machine the relationship & patterns"
   ]
  },
  {
   "cell_type": "code",
   "execution_count": 90,
   "id": "8a8a110d-0cf1-4a72-84e0-3ebfff30af61",
   "metadata": {},
   "outputs": [
    {
     "name": "stdout",
     "output_type": "stream",
     "text": [
      "(21,)\n"
     ]
    },
    {
     "data": {
      "text/plain": [
       "(None, (30,))"
      ]
     },
     "execution_count": 90,
     "metadata": {},
     "output_type": "execute_result"
    }
   ],
   "source": [
    "print(y_train.shape), df['Salary'].shape\n"
   ]
  },
  {
   "cell_type": "code",
   "execution_count": 91,
   "id": "4563b79c-4250-4c39-9970-55883ecbedcd",
   "metadata": {},
   "outputs": [],
   "source": [
    "# Same for Target Variable Original Record was 30, then we assigned 70% for training so y_train count is showing 21 records fair enough?"
   ]
  },
  {
   "cell_type": "code",
   "execution_count": 92,
   "id": "97e7c274-fb12-4371-b43d-78dc9a007bee",
   "metadata": {},
   "outputs": [],
   "source": [
    "# Now we will import Linear Regression Algorithm using which we will train our model\n",
    "\n",
    "from sklearn.linear_model import LinearRegression"
   ]
  },
  {
   "cell_type": "code",
   "execution_count": 93,
   "id": "9c37b4f2-3d10-48a1-a8bf-f14da32746ae",
   "metadata": {},
   "outputs": [],
   "source": [
    "LR = LinearRegression()\n",
    "\n",
    "# LinearRegession() is nothing but a regressor which we will use to fit the training dataset then later predict the test dataset"
   ]
  },
  {
   "cell_type": "code",
   "execution_count": 94,
   "id": "59dc2b41-e77e-44c4-b0c1-41df0e38ad34",
   "metadata": {},
   "outputs": [
    {
     "data": {
      "text/plain": [
       "LinearRegression()"
      ]
     },
     "execution_count": 94,
     "metadata": {},
     "output_type": "execute_result"
    }
   ],
   "source": [
    "LR.fit(X_train, y_train)"
   ]
  },
  {
   "cell_type": "code",
   "execution_count": 96,
   "id": "c5b91614-5f86-45f6-a279-3b9444d0fada",
   "metadata": {},
   "outputs": [
    {
     "data": {
      "text/plain": [
       "26777.39134119764"
      ]
     },
     "execution_count": 96,
     "metadata": {},
     "output_type": "execute_result"
    }
   ],
   "source": [
    "#Now we will find the Intercept # ALso Known as Beta 0\n",
    "\n",
    "LR.intercept_"
   ]
  },
  {
   "cell_type": "code",
   "execution_count": 97,
   "id": "7428139a-c385-41e2-b892-725e4d02d2be",
   "metadata": {},
   "outputs": [
    {
     "data": {
      "text/plain": [
       "array([9360.26128619])"
      ]
     },
     "execution_count": 97,
     "metadata": {},
     "output_type": "execute_result"
    }
   ],
   "source": [
    "# Next we will find the SLope # Also known as Beta 1\n",
    "\n",
    "LR.coef_"
   ]
  },
  {
   "cell_type": "code",
   "execution_count": 98,
   "id": "c9db9bbc-4f6f-4e73-bd9d-a224e3fddf63",
   "metadata": {},
   "outputs": [],
   "source": [
    "# Now as we trained our model its time for predicting the test dataset of 30% we kept during splitting the original dataset\n",
    "\n",
    "y_pred = LR.predict(X_test)"
   ]
  },
  {
   "cell_type": "code",
   "execution_count": 101,
   "id": "146bcd2f-c5e9-44bd-a666-b3b14607bdef",
   "metadata": {},
   "outputs": [
    {
     "data": {
      "text/plain": [
       "[40817.783270488115,\n",
       " 123188.08258899227,\n",
       " 65154.46261459161,\n",
       " 63282.410357352885,\n",
       " 115699.87356003733,\n",
       " 108211.66453108241,\n",
       " 116635.8996886567,\n",
       " 64218.43648597225,\n",
       " 76386.776158024]"
      ]
     },
     "execution_count": 101,
     "metadata": {},
     "output_type": "execute_result"
    }
   ],
   "source": [
    "y_pred.tolist()"
   ]
  },
  {
   "cell_type": "code",
   "execution_count": 100,
   "id": "17caa214-5791-408b-90da-f1510bd85d8c",
   "metadata": {},
   "outputs": [
    {
     "data": {
      "text/plain": [
       "2      37731\n",
       "28    122391\n",
       "13     57081\n",
       "10     63218\n",
       "26    116969\n",
       "24    109431\n",
       "27    112635\n",
       "11     55794\n",
       "17     83088\n",
       "Name: Salary, dtype: int64"
      ]
     },
     "execution_count": 100,
     "metadata": {},
     "output_type": "execute_result"
    }
   ],
   "source": [
    "y_test # If we compare both of this values of y_predicted(model assumption), y_test(original) we can see that our model almost predicted nearby salaries"
   ]
  },
  {
   "cell_type": "code",
   "execution_count": 103,
   "id": "4006a32a-64fe-4afc-906d-a9bbf0ecd7a1",
   "metadata": {},
   "outputs": [],
   "source": [
    "# Now we will perform the different method of Evaluation on our Model\n",
    "from sklearn import metrics"
   ]
  },
  {
   "cell_type": "code",
   "execution_count": 104,
   "id": "33b5d4d7-b3b5-491d-b513-745661ae0822",
   "metadata": {},
   "outputs": [],
   "source": [
    "R2 = metrics.r2_score(y_test,y_pred)"
   ]
  },
  {
   "cell_type": "code",
   "execution_count": 106,
   "id": "67ca7682-343f-4d09-a7c7-a12e8f5fe8d2",
   "metadata": {},
   "outputs": [
    {
     "data": {
      "text/plain": [
       "0.9740993407213511"
      ]
     },
     "execution_count": 106,
     "metadata": {},
     "output_type": "execute_result"
    }
   ],
   "source": [
    "R2"
   ]
  },
  {
   "cell_type": "code",
   "execution_count": 107,
   "id": "487298d7-9981-4966-a28c-5fe1baa73e62",
   "metadata": {},
   "outputs": [],
   "source": [
    "# Our R-squared value is 0.97, it means that approximately 97% of the variability in the observed target values is explained by the regression model. \n",
    "# In other words: 97% of the variability in the dependent variable (target) can be predicted or explained by the independent variables (features) in the model.\n",
    "# The model fits the observed data very well and provides a high degree of predictive power.\n",
    "# A high R-squared value close to 1 indicates that the model is performing well in capturing the relationship between the features and the target variable. \n",
    "# However, it's essential to interpret the R-squared value in the context of the specific problem and domain, \n",
    "# as very high R-squared values may sometimes indicate overfitting or other issues with the model."
   ]
  },
  {
   "cell_type": "code",
   "execution_count": 108,
   "id": "ff3f656a-e8c8-4ae9-bd91-b76fb66993f2",
   "metadata": {},
   "outputs": [
    {
     "name": "stdout",
     "output_type": "stream",
     "text": [
      "3737.4178618788987\n"
     ]
    }
   ],
   "source": [
    "print(metrics.mean_absolute_error(y_test, y_pred))"
   ]
  },
  {
   "cell_type": "code",
   "execution_count": 109,
   "id": "1a7f655e-7934-4a3f-a35e-5c9de6ed4b68",
   "metadata": {},
   "outputs": [],
   "source": [
    "# Our result is 3737, which means that, on average, the absolute difference between the observed target values and the predicted target values is 3737 units \n",
    "# (or whatever unit the target variable is measured in).\n",
    "\n",
    "# In other words: On average, the model's predictions are off by approximately 3737 units from the actual target values.\n",
    "# Mean absolute error provides a straightforward measure of the model's accuracy, \n",
    "# as it represents the average magnitude of errors made by the model. Lower values of MAE indicate better performance, \n",
    "# as they suggest that the model's predictions are closer to the actual values."
   ]
  },
  {
   "cell_type": "code",
   "execution_count": 110,
   "id": "3ce6decd-8f72-4cec-a605-7c261361a580",
   "metadata": {},
   "outputs": [
    {
     "name": "stdout",
     "output_type": "stream",
     "text": [
      "23370078.800832972\n"
     ]
    }
   ],
   "source": [
    "print(metrics.mean_squared_error(y_test, y_pred))"
   ]
  },
  {
   "cell_type": "code",
   "execution_count": 111,
   "id": "56b98b02-c9c3-4d8b-b46c-2be99838c8b0",
   "metadata": {},
   "outputs": [],
   "source": [
    "# Our result is 23370078.800832972, it means that, on average, \n",
    "# the squared difference between the observed target values and the predicted target values is approximately 23370078.800832972 square units \n",
    "# (or whatever unit the target variable is measured in).\n",
    "\n",
    "# In other words: The model's predictions are, on average, off by approximately 23370078.800832972 square units from the actual target values.\n",
    "# Mean squared error measures the average squared difference between the predicted and actual values. \n",
    "# It penalizes larger errors more heavily than smaller errors because of the squaring operation. \n",
    "# Lower values of MSE indicate better performance, as they suggest that the model's predictions are closer to the actual values."
   ]
  },
  {
   "cell_type": "code",
   "execution_count": 112,
   "id": "19d14747-8147-42ff-b2cd-af3db58cb00f",
   "metadata": {},
   "outputs": [
    {
     "name": "stdout",
     "output_type": "stream",
     "text": [
      "4834.260936361728\n"
     ]
    }
   ],
   "source": [
    "print(np.sqrt(metrics.mean_squared_error(y_test, y_pred)))"
   ]
  },
  {
   "cell_type": "code",
   "execution_count": 113,
   "id": "5dd3cd00-b9c8-403d-90e3-5e7787ffb8f1",
   "metadata": {},
   "outputs": [],
   "source": [
    "# Our result is 4834, it means that, on average, the squared difference between the observed target values and the predicted target values is approximately 4834 square units \n",
    "# (or whatever unit the target variable is measured in), \n",
    "# when taking the square root to revert back to the original scale of the target variable.\n",
    "\n",
    "# In other words:The model's predictions are, on average, off by approximately 4834 units from the actual target values."
   ]
  },
  {
   "cell_type": "code",
   "execution_count": 121,
   "id": "193e9831-79e1-4a51-8b89-243351b94ece",
   "metadata": {},
   "outputs": [
    {
     "name": "stdout",
     "output_type": "stream",
     "text": [
      "[74514.72390079]\n"
     ]
    }
   ],
   "source": [
    "# Now lets Predict a Salary for somone who is having 5 yrs of exp lets see what result we get\n",
    "\n",
    "print(LR.predict([[5.1]]))"
   ]
  },
  {
   "cell_type": "code",
   "execution_count": 120,
   "id": "e45c733a-6a93-4848-98eb-de14a11371d8",
   "metadata": {},
   "outputs": [
    {
     "data": {
      "text/html": [
       "<div>\n",
       "<style scoped>\n",
       "    .dataframe tbody tr th:only-of-type {\n",
       "        vertical-align: middle;\n",
       "    }\n",
       "\n",
       "    .dataframe tbody tr th {\n",
       "        vertical-align: top;\n",
       "    }\n",
       "\n",
       "    .dataframe thead th {\n",
       "        text-align: right;\n",
       "    }\n",
       "</style>\n",
       "<table border=\"1\" class=\"dataframe\">\n",
       "  <thead>\n",
       "    <tr style=\"text-align: right;\">\n",
       "      <th></th>\n",
       "      <th>YearsExperience</th>\n",
       "      <th>Salary</th>\n",
       "    </tr>\n",
       "  </thead>\n",
       "  <tbody>\n",
       "    <tr>\n",
       "      <th>16</th>\n",
       "      <td>5.1</td>\n",
       "      <td>66029</td>\n",
       "    </tr>\n",
       "  </tbody>\n",
       "</table>\n",
       "</div>"
      ],
      "text/plain": [
       "    YearsExperience  Salary\n",
       "16              5.1   66029"
      ]
     },
     "execution_count": 120,
     "metadata": {},
     "output_type": "execute_result"
    }
   ],
   "source": [
    "# our model predicted that with 5.1 yrs of work exp a candidate will get 74514 INR / Monthly Income\n",
    "# Now lets see that what our Original dataset record says\n",
    "\n",
    "df5yrs = df[df[\"YearsExperience\"] == 5.1]\n",
    "df5yrs"
   ]
  },
  {
   "cell_type": "code",
   "execution_count": null,
   "id": "119d84a5-52c2-49f8-8de3-13ce54f646ca",
   "metadata": {},
   "outputs": [],
   "source": [
    "# As we can see our model predicted almost 8000 INR more salary for person having 5.1 yrs of exp"
   ]
  },
  {
   "cell_type": "code",
   "execution_count": 122,
   "id": "181b5d55-b1cc-4290-8373-da68e101bac0",
   "metadata": {},
   "outputs": [
    {
     "data": {
      "text/plain": [
       "2    -3086.783270\n",
       "28    -797.082589\n",
       "13   -8073.462615\n",
       "10     -64.410357\n",
       "26    1269.126440\n",
       "24    1219.335469\n",
       "27   -4000.899689\n",
       "11   -8424.436486\n",
       "17    6701.223842\n",
       "Name: Salary, dtype: float64"
      ]
     },
     "execution_count": 122,
     "metadata": {},
     "output_type": "execute_result"
    }
   ],
   "source": [
    "# Assumptions\n",
    "\n",
    "error = y_test-y_pred\n",
    "error"
   ]
  },
  {
   "cell_type": "code",
   "execution_count": 123,
   "id": "025f8806-dafe-4cac-a1d7-3f71aa840207",
   "metadata": {},
   "outputs": [],
   "source": [
    "# No Autocorrelation\n",
    "\n",
    "import statsmodels.api as smt\n",
    "from statsmodels.graphics.tsaplots import plot_acf, plot_pacf"
   ]
  },
  {
   "cell_type": "code",
   "execution_count": 124,
   "id": "7520b5b1-8f18-4e24-9ac6-3211301c7f5e",
   "metadata": {},
   "outputs": [
    {
     "data": {
      "image/png": "[encoded data removed]",
      "text/plain": [
       "<Figure size 432x288 with 1 Axes>"
      ]
     },
     "metadata": {
      "needs_background": "light"
     },
     "output_type": "display_data"
    }
   ],
   "source": [
    "acf = plot_acf(error)\n",
    "plt.show()"
   ]
  },
  {
   "cell_type": "code",
   "execution_count": 125,
   "id": "f6cdcc0a-6f9d-46ee-888b-57067b7d2957",
   "metadata": {},
   "outputs": [
    {
     "data": {
      "image/png": "[encoded data removed]",
      "text/plain": [
       "<Figure size 432x288 with 1 Axes>"
      ]
     },
     "metadata": {
      "needs_background": "light"
     },
     "output_type": "display_data"
    }
   ],
   "source": [
    "# Normality\n",
    "\n",
    "sns.distplot(error)\n",
    "plt.xlabel('residual')\n",
    "plt.show()\n",
    "\n"
   ]
  },
  {
   "cell_type": "code",
   "execution_count": 126,
   "id": "db073a51-7914-426e-91d4-d661083541eb",
   "metadata": {},
   "outputs": [
    {
     "data": {
      "image/png": "[encoded data removed]",
      "text/plain": [
       "<Figure size 432x288 with 1 Axes>"
      ]
     },
     "metadata": {
      "needs_background": "light"
     },
     "output_type": "display_data"
    }
   ],
   "source": [
    "# Linearity\n",
    "\n",
    "sns.regplot(X,y)\n",
    "plt.show()"
   ]
  },
  {
   "cell_type": "code",
   "execution_count": 128,
   "id": "31189d0d-3786-43da-8ae5-f940219d0e92",
   "metadata": {},
   "outputs": [
    {
     "data": {
      "image/png": "[encoded data removed]",
      "text/plain": [
       "<Figure size 432x288 with 1 Axes>"
      ]
     },
     "metadata": {
      "needs_background": "light"
     },
     "output_type": "display_data"
    }
   ],
   "source": [
    "# Homoscedasticity\n",
    "\n",
    "sns.scatterplot(x=y_pred,y=error)\n",
    "plt.xlabel('predicted values')\n",
    "plt.ylabel('residuals')\n",
    "plt.xlim([0,150000])\n",
    "plt.ylim([-8000,8000])\n",
    "sns.lineplot([0,150000],[0,0],color='blue')\n",
    "plt.show()"
   ]
  },
  {
   "cell_type": "code",
   "execution_count": 130,
   "id": "d565791c-afa8-48d2-ba6f-32a2a5482fa5",
   "metadata": {},
   "outputs": [
    {
     "data": {
      "image/png": "[encoded data removed]",
      "text/plain": [
       "<Figure size 432x288 with 2 Axes>"
      ]
     },
     "metadata": {
      "needs_background": "light"
     },
     "output_type": "display_data"
    }
   ],
   "source": [
    "# Multicollinearity\n",
    "\n",
    "sns.heatmap(df.corr(),annot=True)\n",
    "plt.show()"
   ]
  },
  {
   "cell_type": "code",
   "execution_count": null,
   "id": "8c14e937-e309-4c50-9911-5a875c86eb6a",
   "metadata": {},
   "outputs": [],
   "source": [
    "# Thanks for staying with me during this whole project and giving your time \n",
    "# Regards\n",
    "# Nirbhay Tiwari"
   ]
  }
 ],
 "metadata": {
  "kernelspec": {
   "display_name": "Python 3 (ipykernel)",
   "language": "python",
   "name": "python3"
  },
  "language_info": {
   "codemirror_mode": {
    "name": "ipython",
    "version": 3
   },
   "file_extension": ".py",
   "mimetype": "text/x-python",
   "name": "python",
   "nbconvert_exporter": "python",
   "pygments_lexer": "ipython3",
   "version": "3.9.12"
  }
 },
 "nbformat": 4,
 "nbformat_minor": 5
}
